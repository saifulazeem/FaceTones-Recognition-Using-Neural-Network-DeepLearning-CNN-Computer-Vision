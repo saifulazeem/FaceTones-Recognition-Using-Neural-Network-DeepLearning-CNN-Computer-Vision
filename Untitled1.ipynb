{
 "cells": [
  {
   "cell_type": "code",
   "execution_count": 1,
   "metadata": {},
   "outputs": [
    {
     "name": "stdout",
     "output_type": "stream",
     "text": [
      "Collecting image\n",
      "  Downloading image-1.5.33.tar.gz (15 kB)\n",
      "Requirement already satisfied: pillow in c:\\users\\muhammad saif\\anaconda3\\envs\\mytensorflow\\lib\\site-packages (from image) (7.0.0)\n",
      "Collecting django\n",
      "  Downloading Django-3.1.7-py3-none-any.whl (7.8 MB)\n",
      "Requirement already satisfied: six in c:\\users\\muhammad saif\\anaconda3\\envs\\mytensorflow\\lib\\site-packages (from image) (1.14.0)\n",
      "Collecting asgiref<4,>=3.2.10\n",
      "  Downloading asgiref-3.3.1-py3-none-any.whl (19 kB)\n",
      "Requirement already satisfied: pytz in c:\\users\\muhammad saif\\anaconda3\\envs\\mytensorflow\\lib\\site-packages (from django->image) (2020.5)\n",
      "Collecting sqlparse>=0.2.2\n",
      "  Downloading sqlparse-0.4.1-py3-none-any.whl (42 kB)\n",
      "Building wheels for collected packages: image\n",
      "  Building wheel for image (setup.py): started\n",
      "  Building wheel for image (setup.py): finished with status 'done'\n",
      "  Created wheel for image: filename=image-1.5.33-py2.py3-none-any.whl size=19486 sha256=ee09b827941d3ddd7ea0bce4f9cbed8430d4b10f9a3bde697eda04ce394d75cb\n",
      "  Stored in directory: c:\\users\\muhammad saif\\appdata\\local\\pip\\cache\\wheels\\56\\88\\e6\\897194cfe8c08a8b9afd881d3bf53d102e13fa39607d721383\n",
      "Successfully built image\n",
      "Installing collected packages: asgiref, sqlparse, django, image\n",
      "Successfully installed asgiref-3.3.1 django-3.1.7 image-1.5.33 sqlparse-0.4.1\n"
     ]
    }
   ],
   "source": [
    "!pip install image\n"
   ]
  },
  {
   "cell_type": "code",
   "execution_count": 4,
   "metadata": {},
   "outputs": [],
   "source": [
    "#!/usr/bin/python\n",
    "from PIL import Image\n",
    "import os, sys\n",
    "\n",
    "path = \"C:/facetones/Dataset/Dark\"\n",
    "dirs = os.listdir( path )\n",
    "\n",
    "def resize():\n",
    "    for item in dirs:\n",
    "        if os.path.isfile(path+item):\n",
    "            im = Image.open(path+item)\n",
    "            f, e = os.path.splitext(path+item)\n",
    "            imResize = im.resize((200,200), Image.ANTIALIAS)\n",
    "            imResize.save(f + ' resized.jpg', 'JPEG', quality=90)\n",
    "\n",
    "resize()"
   ]
  },
  {
   "cell_type": "code",
   "execution_count": null,
   "metadata": {},
   "outputs": [],
   "source": [
    "#!/usr/bin/python\n",
    "from PIL import Image\n",
    "import os, sys\n",
    "img_path = 'C:/facetones/Dataset/Fair'\n",
    "im= Image.open(img_path)"
   ]
  },
  {
   "cell_type": "code",
   "execution_count": 39,
   "metadata": {},
   "outputs": [],
   "source": [
    "from PIL import Image\n",
    "import os, sys\n",
    "import glob\n",
    "img_list =[]\n",
    "resize_img_list=[]"
   ]
  },
  {
   "cell_type": "code",
   "execution_count": 40,
   "metadata": {},
   "outputs": [
    {
     "name": "stdout",
     "output_type": "stream",
     "text": [
      "C:/facetones/Dataset/Medium_tan\\059b0319e1dbc37130b6af420f6e9478.jpg\n",
      "C:/facetones/Dataset/Medium_tan\\138dbf83acc0b50ca27afc7b7ca0b3a5.jpg\n",
      "C:/facetones/Dataset/Medium_tan\\1c6ebf062c974f56b536a9b956bbf40e.jpg\n",
      "C:/facetones/Dataset/Medium_tan\\1e177d831c2db2ff1d2f52e5b230b78c.jpg\n",
      "C:/facetones/Dataset/Medium_tan\\214e8a162b4fae805346879a18e9d626.jpg\n",
      "C:/facetones/Dataset/Medium_tan\\28b788aed76374aebedfe33bd907bf18.jpg\n",
      "C:/facetones/Dataset/Medium_tan\\32e021b1424d37b3ac4cd1bc5b0a4f6b.jpg\n",
      "C:/facetones/Dataset/Medium_tan\\3d30f80a61bce291806ec31212a72153 (1).jpg\n",
      "C:/facetones/Dataset/Medium_tan\\4d58b2dba16f8411de1fa5da674117d6.jpg\n",
      "C:/facetones/Dataset/Medium_tan\\4e296fd9c16d7bf00fc045b9a3f69a9b.jpg\n",
      "C:/facetones/Dataset/Medium_tan\\5ab3b8f7cae332f2b92c5a97fd8f3aef.jpg\n",
      "C:/facetones/Dataset/Medium_tan\\79e863e40303793466a4d2030f432d0b.jpg\n",
      "C:/facetones/Dataset/Medium_tan\\8c351f27b303883acc20d5d8e985e799.jpg\n",
      "C:/facetones/Dataset/Medium_tan\\999NAC0000112_Deep_7.jpg\n",
      "C:/facetones/Dataset/Medium_tan\\9b879a95632b5ca7be5915280c435ddc.jpg\n",
      "C:/facetones/Dataset/Medium_tan\\a63c965b301a57d2a60375cbdeadac92.jpg\n",
      "C:/facetones/Dataset/Medium_tan\\c9517b1bd61055bfb010ba2794d3fb91.jpg\n",
      "C:/facetones/Dataset/Medium_tan\\ce7a9a76ed26f7db426b76eb4e3a0361.jpg\n",
      "C:/facetones/Dataset/Medium_tan\\d.jpg\n",
      "C:/facetones/Dataset/Medium_tan\\de4973d3107ad966951cbb737ad790b7.jpg\n",
      "C:/facetones/Dataset/Medium_tan\\f1babeed2d9ba8e50ae98559d7b7539c.jpg\n",
      "C:/facetones/Dataset/Medium_tan\\images (1).jpg\n",
      "C:/facetones/Dataset/Medium_tan\\images (11).jpg\n",
      "C:/facetones/Dataset/Medium_tan\\images (13).jpg\n",
      "C:/facetones/Dataset/Medium_tan\\images (3).jpg\n",
      "C:/facetones/Dataset/Medium_tan\\images (5).jpg\n",
      "C:/facetones/Dataset/Medium_tan\\images (7).jpg\n",
      "C:/facetones/Dataset/Medium_tan\\images (8).jpg\n",
      "C:/facetones/Dataset/Medium_tan\\images.jpg\n",
      "C:/facetones/Dataset/Medium_tan\\maxresdefault (1).jpg\n",
      "C:/facetones/Dataset/Medium_tan\\maxresdefault.jpg\n",
      "C:/facetones/Dataset/Medium_tan\\photo-1486670082170-b54a98edda89.jpg\n",
      "C:/facetones/Dataset/Medium_tan\\photo-1492633423870-43d1cd2775eb.jpg\n",
      "C:/facetones/Dataset/Medium_tan\\photo-1512361436605-a484bdb34b5f.jpg\n",
      "C:/facetones/Dataset/Medium_tan\\photo-1512413316925-fd4b93f31521.jpg\n",
      "C:/facetones/Dataset/Medium_tan\\photo-1519076381129-b4234ae7e573.jpg\n",
      "C:/facetones/Dataset/Medium_tan\\photo-1519699047748-de8e457a634e.jpg\n",
      "C:/facetones/Dataset/Medium_tan\\photo-1522938974444-f12497b69347.jpg\n",
      "C:/facetones/Dataset/Medium_tan\\photo-1523297736436-356615162cc8.jpg\n",
      "C:/facetones/Dataset/Medium_tan\\photo-1525785939540-8a33240e4946.jpg\n",
      "C:/facetones/Dataset/Medium_tan\\photo-1526379879527-8559ecfcaec0.jpg\n",
      "C:/facetones/Dataset/Medium_tan\\photo-1528582071987-48dde78ae5d5.jpg\n",
      "C:/facetones/Dataset/Medium_tan\\photo-1529832394543-39c86aee0214.jpg\n",
      "C:/facetones/Dataset/Medium_tan\\photo-1531123414780-f74242c2b052.jpg\n",
      "C:/facetones/Dataset/Medium_tan\\photo-1533674689012-136b487b7736.jpg\n",
      "C:/facetones/Dataset/Medium_tan\\photo-1533675080656-5aeaec05b16c.jpg\n",
      "C:/facetones/Dataset/Medium_tan\\photo-1534318400171-5d69d3e4c394.jpg\n",
      "C:/facetones/Dataset/Medium_tan\\photo-1535968310671-d865b369465a.jpg\n",
      "C:/facetones/Dataset/Medium_tan\\photo-1535997018565-142937b9e38d.jpg\n",
      "C:/facetones/Dataset/Medium_tan\\photo-1543080853-556086153871.jpg\n",
      "C:/facetones/Dataset/Medium_tan\\photo-1543366749-ad19659450ef.jpg\n",
      "C:/facetones/Dataset/Medium_tan\\photo-1543632171-24f97623ef8d.jpg\n",
      "C:/facetones/Dataset/Medium_tan\\photo-1546456073-92b9f0a8d413.jpg\n",
      "C:/facetones/Dataset/Medium_tan\\photo-1546456073-ea246a7bd25f.jpg\n",
      "C:/facetones/Dataset/Medium_tan\\photo-1548142813-c348350df52b.jpg\n",
      "C:/facetones/Dataset/Medium_tan\\photo-1548756233-779a322df5bb.jpg\n",
      "C:/facetones/Dataset/Medium_tan\\photo-1552413538-097cbb5ab68a.jpg\n",
      "C:/facetones/Dataset/Medium_tan\\photo-1554384645-13eab165c24b.jpg\n",
      "C:/facetones/Dataset/Medium_tan\\photo-1557296387-5358ad7997bb.jpg\n",
      "C:/facetones/Dataset/Medium_tan\\photo-1558990397-489e8f26f88c.jpg\n",
      "C:/facetones/Dataset/Medium_tan\\photo-1559409881-d1207596578f.jpg\n",
      "C:/facetones/Dataset/Medium_tan\\photo-1561406636-b80293969660.jpg\n",
      "C:/facetones/Dataset/Medium_tan\\photo-1568053681937-3cea8f10d9f2.jpg\n",
      "C:/facetones/Dataset/Medium_tan\\photo-1568054043324-86c349f926d0.jpg\n",
      "C:/facetones/Dataset/Medium_tan\\photo-1575278153475-eecff7fb0c3a.jpg\n",
      "C:/facetones/Dataset/Medium_tan\\photo-1575632274137-e8ac191a74f4.jpg\n",
      "C:/facetones/Dataset/Medium_tan\\photo-1579634151863-8ddedd098251.jpg\n",
      "C:/facetones/Dataset/Medium_tan\\photo-1582876533492-51fd2f162272.jpg\n",
      "C:/facetones/Dataset/Medium_tan\\photo-1584258299823-5d5446eb12d5.jpg\n",
      "C:/facetones/Dataset/Medium_tan\\photo-1585890483046-9461ebc1dace.jpg\n",
      "C:/facetones/Dataset/Medium_tan\\photo-1590670795776-6c7d1450ae46.jpg\n",
      "C:/facetones/Dataset/Medium_tan\\photo-1593906265072-24d899dda4b7.jpg\n",
      "C:/facetones/Dataset/Medium_tan\\photo-1595124843372-676cf7be0173.jpg\n",
      "C:/facetones/Dataset/Medium_tan\\photo-1596209745557-b90a0e8d188d.jpg\n",
      "C:/facetones/Dataset/Medium_tan\\photo-1597071058713-6776461d7737.jpg\n",
      "C:/facetones/Dataset/Medium_tan\\photo-1598568167866-4968f8ce4884.jpg\n",
      "C:/facetones/Dataset/Medium_tan\\photo-1602580404246-225af00637ac.jpg\n",
      "C:/facetones/Dataset/Medium_tan\\photo-1604634395907-7c7ccefdeae4.jpg\n",
      "C:/facetones/Dataset/Medium_tan\\photo-1605597208804-c8cd570ff4cb.jpg\n",
      "C:/facetones/Dataset/Medium_tan\\photo-1605774676005-5c67fb60e6f1.jpg\n",
      "C:/facetones/Dataset/Medium_tan\\photo-1605774676096-f3714f11bee3.jpg\n",
      "C:/facetones/Dataset/Medium_tan\\photo-1611665427903-2acc4d77fe15.jpg\n",
      "C:/facetones/Dataset/Medium_tan\\photo-1611666163369-6f30fc74bedd.jpg\n"
     ]
    }
   ],
   "source": [
    "for filename in glob.glob('C:/facetones/Dataset/Medium_tan/*.jpg'):\n",
    "    print(filename)\n",
    "    img= Image.open(filename)\n",
    "    img_list.append(img)"
   ]
  },
  {
   "cell_type": "code",
   "execution_count": 41,
   "metadata": {},
   "outputs": [],
   "source": [
    "for image in img_list:\n",
    "    image=image.resize((64,64))\n",
    "    resize_img_list.append(image)\n",
    "    "
   ]
  },
  {
   "cell_type": "code",
   "execution_count": 42,
   "metadata": {},
   "outputs": [],
   "source": [
    "for (i,new) in enumerate(resize_img_list):\n",
    "    new.save('{}{}{}'.format('C:/Users/Muhammad Saif/Desktop/facetons/medium_tan/medium_tan',i+1,'.jpg'))"
   ]
  },
  {
   "cell_type": "code",
   "execution_count": 43,
   "metadata": {},
   "outputs": [],
   "source": [
    "resize_img_list.clear()\n",
    "img_list.clear()"
   ]
  },
  {
   "cell_type": "code",
   "execution_count": null,
   "metadata": {},
   "outputs": [],
   "source": []
  }
 ],
 "metadata": {
  "kernelspec": {
   "display_name": "Python 3",
   "language": "python",
   "name": "python3"
  },
  "language_info": {
   "codemirror_mode": {
    "name": "ipython",
    "version": 3
   },
   "file_extension": ".py",
   "mimetype": "text/x-python",
   "name": "python",
   "nbconvert_exporter": "python",
   "pygments_lexer": "ipython3",
   "version": "3.7.6"
  }
 },
 "nbformat": 4,
 "nbformat_minor": 4
}
